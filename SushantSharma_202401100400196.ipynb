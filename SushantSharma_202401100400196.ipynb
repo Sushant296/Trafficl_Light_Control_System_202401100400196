{
  "nbformat": 4,
  "nbformat_minor": 0,
  "metadata": {
    "colab": {
      "provenance": []
    },
    "kernelspec": {
      "name": "python3",
      "display_name": "Python 3"
    },
    "language_info": {
      "name": "python"
    }
  },
  "cells": [
    {
      "cell_type": "code",
      "execution_count": null,
      "metadata": {
        "colab": {
          "base_uri": "https://localhost:8080/"
        },
        "id": "6ko_YkTCSNrc",
        "outputId": "9ee4bbc9-3069-4de4-b4f4-11946bec99e7"
      },
      "outputs": [
        {
          "output_type": "stream",
          "name": "stdout",
          "text": [
            "\n",
            "🚦 Traffic Light Status:\n",
            "Lane 1: green\n",
            "Lane 2: red\n",
            "Lane 3: red\n",
            "Lane 4: red\n",
            "------------------------------\n",
            "Road1 cars: 7, Road2 cars: 6, Light status: road1_green\n",
            "Road1 cars: 7, Road2 cars: 5, Light status: road1_green\n",
            "\n",
            "🚦 Traffic Light Status:\n",
            "Lane 1: red\n",
            "Lane 2: green\n",
            "Lane 3: red\n",
            "Lane 4: red\n",
            "------------------------------\n",
            "\n",
            "🚦 Traffic Light Status:\n",
            "Lane 1: red\n",
            "Lane 2: red\n",
            "Lane 3: green\n",
            "Lane 4: red\n",
            "------------------------------\n",
            "\n",
            "🚦 Traffic Light Status:\n",
            "Lane 1: red\n",
            "Lane 2: red\n",
            "Lane 3: red\n",
            "Lane 4: green\n",
            "------------------------------\n",
            "Road1 cars: 4, Road2 cars: 5, Light status: road2_green\n",
            "Road1 cars: 3, Road2 cars: 4, Light status: road2_green\n",
            "Road1 cars: 3, Road2 cars: 2, Light status: road1_green\n"
          ]
        }
      ],
      "source": [
        "import random\n",
        "import time\n",
        "\n",
        "def simulate_traffic(road1_cars, road2_cars, road1On):\n",
        "    if road1On:\n",
        "        road1_cars += random.randint(0, 2)\n",
        "        road2_cars += random.randint(-1, 1)\n",
        "    else:\n",
        "        road2_cars += random.randint(0, 2)\n",
        "        road1_cars += random.randint(-1, 1)\n",
        "\n",
        "    return max(0, road1_cars), max(0, road2_cars)\n",
        "\n",
        "def ai_control(road1_cars, road2_cars, road1On):\n",
        "    if road1_cars > road2_cars:\n",
        "        return True  # Road 1 green\n",
        "    return False  # Road 2 green\n",
        "\n",
        "# Initialize conditions\n",
        "road1_cars = road2_cars = 5\n",
        "road1On = True\n",
        "\n",
        "# Simulation loop\n",
        "while True:\n",
        "    road1_cars, road2_cars = simulate_traffic(road1_cars, road2_cars, road1On)\n",
        "    road1On = ai_control(road1_cars, road2_cars, road1On)\n",
        "\n",
        "    print(f\"Road1 cars: {road1_cars}, Road2 cars: {road2_cars}, Light status: {'road1_green' if road1On else 'road2_green'}\")\n",
        "\n",
        "    # Clear cars when green\n",
        "    if road1On:\n",
        "        road1_cars = max(0, road1_cars - random.randint(1, 3))\n",
        "    else:\n",
        "        road2_cars = max(0, road2_cars - random.randint(1, 3))\n",
        "\n",
        "    time.sleep(2)"
      ]
    }
  ]
}